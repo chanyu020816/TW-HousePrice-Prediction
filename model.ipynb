{
 "cells": [
  {
   "cell_type": "code",
   "execution_count": 4,
   "id": "8c47bfb8",
   "metadata": {},
   "outputs": [],
   "source": [
    "using CSV\n",
    "using DataFrames\n",
    "using Pipe\n",
    "using Statistics\n",
    "using LinearAlgebra\n",
    "using RCall\n",
    "using MLJ\n",
    "using MLJFlux\n",
    "using Flux"
   ]
  },
  {
   "cell_type": "code",
   "execution_count": 2,
   "id": "f34c092f",
   "metadata": {},
   "outputs": [],
   "source": [
    "using MLJ\n",
    "using StatsBase"
   ]
  },
  {
   "cell_type": "code",
   "execution_count": null,
   "id": "f88092f4",
   "metadata": {},
   "outputs": [],
   "source": [
    "ENV[\"LINES\"], ENV[\"COLUMNS\"] = 10, 200"
   ]
  },
  {
   "cell_type": "code",
   "execution_count": 3,
   "id": "a62e3fd0",
   "metadata": {
    "scrolled": true
   },
   "outputs": [
    {
     "data": {
      "text/plain": [
       "false"
      ]
     },
     "execution_count": 3,
     "metadata": {},
     "output_type": "execute_result"
    }
   ],
   "source": [
    "ENV[\"JULIA_GR_REBUILD\"] = false"
   ]
  },
  {
   "cell_type": "code",
   "execution_count": 7,
   "id": "cb896a30",
   "metadata": {
    "scrolled": true
   },
   "outputs": [
    {
     "data": {
      "text/plain": [
       "\"../dataset/dataset/last_year/\""
      ]
     },
     "execution_count": 7,
     "metadata": {},
     "output_type": "execute_result"
    }
   ],
   "source": [
    "ls_loc = \"../dataset/dataset/last_year/\""
   ]
  },
  {
   "cell_type": "code",
   "execution_count": 32,
   "id": "8bfd007f",
   "metadata": {},
   "outputs": [],
   "source": [
    "tp\n",
    "y, X = unpack(tp, ==(:總價元), !=(:有無管理組織); rng = 123);"
   ]
  },
  {
   "cell_type": "code",
   "execution_count": 38,
   "id": "b6c2fc39",
   "metadata": {},
   "outputs": [
    {
     "data": {
      "text/plain": [
       "9-element Vector{String}:\n",
       " \"土地移轉總面積平方公尺\"\n",
       " \"建物移轉總面積平方公尺\"\n",
       " \"建物現況格局_房\"\n",
       " \"建物現況格局_廳\"\n",
       " \"建物現況格局_衛\"\n",
       " \"建物現況格局_隔間\"\n",
       " \"單價元平方公尺\"\n",
       " \"車位移轉總面積_平方公尺\"\n",
       " \"車位總價元\""
      ]
     },
     "execution_count": 38,
     "metadata": {},
     "output_type": "execute_result"
    }
   ],
   "source": [
    "selector = UnivariateFeatureSelector(method = f_test, k = num)\n",
    "var = select_features(selector, X, y)\n"
   ]
  },
  {
   "cell_type": "code",
   "execution_count": 8,
   "id": "6aa34790",
   "metadata": {},
   "outputs": [],
   "source": [
    "exc = [\"Column1\", \"土地位置建物門牌\", \"編號\", \"非都市土地使用分區\", \"非都市土地使用編定\", \n",
    "    \"都市土地使用分區\", \"交易筆棟數\", \"交易年月日\", \"建築完成年月\", \"備註\", \"移轉編號\", \"period\"]\n",
    "return "
   ]
  },
  {
   "cell_type": "code",
   "execution_count": 9,
   "id": "8072c9d5",
   "metadata": {},
   "outputs": [],
   "source": [
    "ls_tp = @pipe CSV.File(ls_loc*\"LastYear_tp.csv\") |> \n",
    "    DataFrame |>\n",
    "    DataFrames.select(_, Not(exc)) |>\n",
    "    rename(_,\n",
    "    :\"建物現況格局.房\" => :建物現況格局_房,\n",
    "    :\"建物現況格局.廳\" => :建物現況格局_廳,\n",
    "    :\"建物現況格局.衛\" => :建物現況格局_衛,\n",
    "    :\"建物現況格局.隔間\" => :建物現況格局_隔間,\n",
    "    :\"車位移轉總面積.平方公尺.\" => :車位移轉總面積_平方公尺\n",
    "    )\n",
    "ls_tp[!, :city] .= \"tp\"\n",
    "return "
   ]
  },
  {
   "cell_type": "code",
   "execution_count": 10,
   "id": "59940676",
   "metadata": {},
   "outputs": [],
   "source": [
    "ls_ks = @pipe CSV.File(ls_loc*\"LastYear_ks.csv\") |> \n",
    "    DataFrame |>\n",
    "    DataFrames.select(_, Not(exc)) |>\n",
    "    rename(_,\n",
    "    :\"建物現況格局.房\" => :建物現況格局_房,\n",
    "    :\"建物現況格局.廳\" => :建物現況格局_廳,\n",
    "    :\"建物現況格局.衛\" => :建物現況格局_衛,\n",
    "    :\"建物現況格局.隔間\" => :建物現況格局_隔間,\n",
    "    :\"車位移轉總面積.平方公尺.\" => :車位移轉總面積_平方公尺\n",
    "    )\n",
    "ls_ks[!, :city] .= \"ks\"\n",
    "return "
   ]
  },
  {
   "cell_type": "code",
   "execution_count": 11,
   "id": "adfec2f3",
   "metadata": {},
   "outputs": [],
   "source": [
    "ls_nt = @pipe CSV.File(ls_loc*\"LastYear_nt.csv\")  |> \n",
    "    DataFrame |>\n",
    "    DataFrames.select(_, Not(exc)) |>\n",
    "    rename(_,\n",
    "    :\"建物現況格局.房\" => :建物現況格局_房,\n",
    "    :\"建物現況格局.廳\" => :建物現況格局_廳,\n",
    "    :\"建物現況格局.衛\" => :建物現況格局_衛,\n",
    "    :\"建物現況格局.隔間\" => :建物現況格局_隔間,\n",
    "    :\"車位移轉總面積.平方公尺.\" => :車位移轉總面積_平方公尺\n",
    "    )\n",
    "ls_nt[!, :city] .= \"nt\"\n",
    "return "
   ]
  },
  {
   "cell_type": "code",
   "execution_count": 12,
   "id": "c52d6f09",
   "metadata": {},
   "outputs": [],
   "source": [
    "ls_tc = @pipe CSV.File(ls_loc*\"LastYear_tc.csv\") |> \n",
    "    DataFrame |>\n",
    "    DataFrames.select(_, Not(exc)) |>\n",
    "    rename(_,\n",
    "    :\"建物現況格局.房\" => :建物現況格局_房,\n",
    "    :\"建物現況格局.廳\" => :建物現況格局_廳,\n",
    "    :\"建物現況格局.衛\" => :建物現況格局_衛,\n",
    "    :\"建物現況格局.隔間\" => :建物現況格局_隔間,\n",
    "    :\"車位移轉總面積.平方公尺.\" => :車位移轉總面積_平方公尺\n",
    "    )\n",
    "ls_tc[!, :city] .= \"tc\"\n",
    "return "
   ]
  },
  {
   "cell_type": "code",
   "execution_count": 13,
   "id": "e1a9bffe",
   "metadata": {},
   "outputs": [],
   "source": [
    "ls_tn = @pipe CSV.File(ls_loc*\"LastYear_tn.csv\")  |> \n",
    "    DataFrame |>\n",
    "    DataFrames.select(_, Not(exc)) |>\n",
    "    rename(_,\n",
    "    :\"建物現況格局.房\" => :建物現況格局_房,\n",
    "    :\"建物現況格局.廳\" => :建物現況格局_廳,\n",
    "    :\"建物現況格局.衛\" => :建物現況格局_衛,\n",
    "    :\"建物現況格局.隔間\" => :建物現況格局_隔間,\n",
    "    :\"車位移轉總面積.平方公尺.\" => :車位移轉總面積_平方公尺\n",
    "    )\n",
    "ls_tn[!, :city] .= \"tn\"\n",
    "return "
   ]
  },
  {
   "cell_type": "code",
   "execution_count": 14,
   "id": "999faf78",
   "metadata": {},
   "outputs": [],
   "source": [
    "ls_ty = @pipe CSV.File(ls_loc*\"LastYear_ty.csv\") |> \n",
    "    DataFrame |>\n",
    "    DataFrames.select(_, Not(exc)) |>\n",
    "    rename(_,\n",
    "    :\"建物現況格局.房\" => :建物現況格局_房,\n",
    "    :\"建物現況格局.廳\" => :建物現況格局_廳,\n",
    "    :\"建物現況格局.衛\" => :建物現況格局_衛,\n",
    "    :\"建物現況格局.隔間\" => :建物現況格局_隔間,\n",
    "    :\"車位移轉總面積.平方公尺.\" => :車位移轉總面積_平方公尺\n",
    "    )\n",
    "ls_ty[!, :city] .= \"ty\"\n",
    "return "
   ]
  },
  {
   "cell_type": "code",
   "execution_count": 69,
   "id": "62a96b19",
   "metadata": {},
   "outputs": [],
   "source": [
    "# CSV.write(\"./ls_tp.csv\", ls_tp)\n",
    "# CSV.write(\"./ls_ks.csv\", ls_ks)\n",
    "# CSV.write(\"./ls_nt.csv\", ls_nt)\n",
    "# CSV.write(\"./ls_tc.csv\", ls_tc)\n",
    "# CSV.write(\"./ls_tn.csv\", ls_tn)\n",
    "# CSV.write(\"./ls_ty.csv\", ls_ty)"
   ]
  },
  {
   "cell_type": "code",
   "execution_count": 72,
   "id": "f43de979",
   "metadata": {},
   "outputs": [
    {
     "data": {
      "text/plain": [
       "prob (generic function with 1 method)"
      ]
     },
     "execution_count": 72,
     "metadata": {},
     "output_type": "execute_result"
    }
   ],
   "source": [
    "function prob(x, df)\n",
    "    nrow(x) / sum(nrow(df))\n",
    "end"
   ]
  },
  {
   "cell_type": "code",
   "execution_count": 71,
   "id": "3a8b4f94",
   "metadata": {},
   "outputs": [
    {
     "data": {
      "text/plain": [
       "cate_table (generic function with 1 method)"
      ]
     },
     "execution_count": 71,
     "metadata": {},
     "output_type": "execute_result"
    }
   ],
   "source": [
    "# create the \"table\" function in r\n",
    "function cate_table(df)\n",
    "    # find cate var\n",
    "    int =  [eltype.(eachcol(df)) .== Int] + \n",
    "        [eltype.(eachcol(df)) .== Union{Missing, Int}]\n",
    "    flo = [eltype.(eachcol(df)) .== Float64] \n",
    "    num_var = Bool.((int + flo)[1])\n",
    "    cat_var = .!num_var\n",
    "    cat_df = df[:, cat_var]\n",
    "    for i in 1:length(names(cat_df))\n",
    "        var = names(cat_df)[i]\n",
    "        tdf = @pipe groupby(cat_df, var) |>\n",
    "            combine(_, nrow)\n",
    "        total = sum(tdf[:, 2])\n",
    "        @pipe tdf |>\n",
    "            transform!(_, :nrow => x -> x / total * 100) |>\n",
    "            rename!(_, [:nrow, :nrow_function] .=> [:n, :prob])\n",
    "        @show tdf\n",
    "    end\n",
    "    println(\"-----------------------\")\n",
    "end"
   ]
  },
  {
   "cell_type": "code",
   "execution_count": null,
   "id": "6cbf0f84",
   "metadata": {},
   "outputs": [],
   "source": [
    "# @show cate_table(ls_tp)\n",
    "# @show cate_table(ls_ks)\n",
    "# @show cate_table(ls_nt)\n",
    "# @show cate_table(ls_tc)\n",
    "# @show cate_table(ls_tn)\n",
    "# @show cate_table(ls_ty)"
   ]
  },
  {
   "cell_type": "code",
   "execution_count": 17,
   "id": "82252de4",
   "metadata": {},
   "outputs": [
    {
     "data": {
      "text/plain": [
       "splitdf (generic function with 1 method)"
      ]
     },
     "execution_count": 17,
     "metadata": {},
     "output_type": "execute_result"
    }
   ],
   "source": [
    "function splitdf(df, pct)\n",
    "    @assert 0 <= pct <= 1\n",
    "    ids = collect(axes(df, 1))\n",
    "    MLJ.shuffle!(ids)\n",
    "    sel = ids .<= nrow(df) .* pct\n",
    "    train = df[sel, :]\n",
    "    test = df[.!sel, :]\n",
    "    return train, test\n",
    "end"
   ]
  },
  {
   "cell_type": "code",
   "execution_count": null,
   "id": "2fe0992f",
   "metadata": {},
   "outputs": [],
   "source": [
    "train_tp, test_tp = splitdf(ls_tp, 0.7)\n",
    "train_ks, test_ks = splitdf(ls_ks, 0.7)\n",
    "train_nt, test_nt = splitdf(ls_nt, 0.7)\n",
    "train_tc, test_tc = splitdf(ls_tc, 0.7)\n",
    "train_tn, test_tn = splitdf(ls_tn, 0.7)\n",
    "train_ty, test_ty = splitdf(ls_ty, 0.7)\n",
    "return "
   ]
  },
  {
   "cell_type": "code",
   "execution_count": 18,
   "id": "f0e1e8ce",
   "metadata": {},
   "outputs": [
    {
     "data": {
      "text/plain": [
       "type_split (generic function with 1 method)"
      ]
     },
     "execution_count": 18,
     "metadata": {},
     "output_type": "execute_result"
    }
   ],
   "source": [
    "function type_split(df::DataFrame)\n",
    "    int =  [eltype.(eachcol(df)) .== Int] + \n",
    "           [eltype.(eachcol(df)) .== Union{Missing, Int}]\n",
    "    flo = [eltype.(eachcol(df)) .== Float64] \n",
    "    num_var = Bool.((int + flo)[1])\n",
    "    return df[:, num_var], df[:, .!num_var]\n",
    "end"
   ]
  },
  {
   "cell_type": "code",
   "execution_count": 19,
   "id": "2ab15149",
   "metadata": {},
   "outputs": [],
   "source": [
    "cont_tp, cate_tp = type_split(ls_tp)\n",
    "cont_ks, cate_ks = type_split(ls_ks)\n",
    "cont_nt, cate_nt = type_split(ls_nt)\n",
    "cont_tc, cate_tc = type_split(ls_tc)\n",
    "cont_tn, cate_tn = type_split(ls_tn)\n",
    "cont_ty, cate_ty = type_split(ls_ty)\n",
    "return "
   ]
  },
  {
   "cell_type": "markdown",
   "id": "f8e5f64e",
   "metadata": {},
   "source": [
    "### Imputation "
   ]
  },
  {
   "cell_type": "code",
   "execution_count": null,
   "id": "e583051a",
   "metadata": {},
   "outputs": [],
   "source": [
    "using Impute"
   ]
  },
  {
   "cell_type": "code",
   "execution_count": 23,
   "id": "5de8648f",
   "metadata": {},
   "outputs": [],
   "source": [
    "cont_df = [cont_tp; cont_ks; cont_nt; cont_tc; cont_ty; cont_tn] \n",
    "cate_df = [cate_tp; cate_ks; cate_nt; cate_tc; cate_ty; cate_tn]\n",
    "return "
   ]
  },
  {
   "cell_type": "code",
   "execution_count": 25,
   "id": "c4960582",
   "metadata": {
    "collapsed": true
   },
   "outputs": [
    {
     "data": {
      "text/html": [
       "<div><div style = \"float: left;\"><span>14×3 DataFrame</span></div><div style = \"clear: both;\"></div></div><div class = \"data-frame\" style = \"overflow-x: scroll;\"><table class = \"data-frame\" style = \"margin-bottom: 6px;\"><thead><tr class = \"header\"><th class = \"rowNumber\" style = \"font-weight: bold; text-align: right;\">Row</th><th style = \"text-align: left;\">variable</th><th style = \"text-align: left;\">nmissing</th><th style = \"text-align: left;\">length</th></tr><tr class = \"subheader headerLastRow\"><th class = \"rowNumber\" style = \"font-weight: bold; text-align: right;\"></th><th title = \"Symbol\" style = \"text-align: left;\">Symbol</th><th title = \"Int64\" style = \"text-align: left;\">Int64</th><th title = \"Union{Nothing, Int64}\" style = \"text-align: left;\">Union…</th></tr></thead><tbody><tr><td class = \"rowNumber\" style = \"font-weight: bold; text-align: right;\">1</td><td style = \"text-align: left;\">土地移轉總面積平方公尺</td><td style = \"text-align: right;\">0</td><td style = \"text-align: left;\">20294</td></tr><tr><td class = \"rowNumber\" style = \"font-weight: bold; text-align: right;\">2</td><td style = \"text-align: left;\">建物移轉總面積平方公尺</td><td style = \"text-align: right;\">0</td><td style = \"text-align: left;\">20294</td></tr><tr><td class = \"rowNumber\" style = \"font-weight: bold; text-align: right;\">3</td><td style = \"text-align: left;\">建物現況格局_房</td><td style = \"text-align: right;\">0</td><td style = \"text-align: left;\">20294</td></tr><tr><td class = \"rowNumber\" style = \"font-weight: bold; text-align: right;\">4</td><td style = \"text-align: left;\">建物現況格局_廳</td><td style = \"text-align: right;\">0</td><td style = \"text-align: left;\">20294</td></tr><tr><td class = \"rowNumber\" style = \"font-weight: bold; text-align: right;\">5</td><td style = \"text-align: left;\">建物現況格局_衛</td><td style = \"text-align: right;\">0</td><td style = \"text-align: left;\">20294</td></tr><tr><td class = \"rowNumber\" style = \"font-weight: bold; text-align: right;\">6</td><td style = \"text-align: left;\">建物現況格局_隔間</td><td style = \"text-align: right;\">0</td><td style = \"text-align: left;\">20294</td></tr><tr><td class = \"rowNumber\" style = \"font-weight: bold; text-align: right;\">7</td><td style = \"text-align: left;\">總價元</td><td style = \"text-align: right;\">0</td><td style = \"text-align: left;\">20294</td></tr><tr><td class = \"rowNumber\" style = \"font-weight: bold; text-align: right;\">8</td><td style = \"text-align: left;\">單價元平方公尺</td><td style = \"text-align: right;\">1033</td><td style = \"font-style: italic; text-align: left;\"></td></tr><tr><td class = \"rowNumber\" style = \"font-weight: bold; text-align: right;\">9</td><td style = \"text-align: left;\">車位移轉總面積_平方公尺</td><td style = \"text-align: right;\">0</td><td style = \"text-align: left;\">20294</td></tr><tr><td class = \"rowNumber\" style = \"font-weight: bold; text-align: right;\">10</td><td style = \"text-align: left;\">車位總價元</td><td style = \"text-align: right;\">0</td><td style = \"text-align: left;\">20294</td></tr><tr><td class = \"rowNumber\" style = \"font-weight: bold; text-align: right;\">11</td><td style = \"text-align: left;\">主建物面積</td><td style = \"text-align: right;\">0</td><td style = \"text-align: left;\">20294</td></tr><tr><td class = \"rowNumber\" style = \"font-weight: bold; text-align: right;\">12</td><td style = \"text-align: left;\">附屬建物面積</td><td style = \"text-align: right;\">0</td><td style = \"text-align: left;\">20294</td></tr><tr><td class = \"rowNumber\" style = \"font-weight: bold; text-align: right;\">13</td><td style = \"text-align: left;\">陽台面積</td><td style = \"text-align: right;\">0</td><td style = \"text-align: left;\">20294</td></tr><tr><td class = \"rowNumber\" style = \"font-weight: bold; text-align: right;\">14</td><td style = \"text-align: left;\">電梯</td><td style = \"text-align: right;\">0</td><td style = \"text-align: left;\">20294</td></tr></tbody></table></div>"
      ],
      "text/latex": [
       "\\begin{tabular}{r|ccc}\n",
       "\t& variable & nmissing & length\\\\\n",
       "\t\\hline\n",
       "\t& Symbol & Int64 & Union…\\\\\n",
       "\t\\hline\n",
       "\t1 & 土地移轉總面積平方公尺 & 0 & 20294 \\\\\n",
       "\t2 & 建物移轉總面積平方公尺 & 0 & 20294 \\\\\n",
       "\t3 & 建物現況格局\\_房 & 0 & 20294 \\\\\n",
       "\t4 & 建物現況格局\\_廳 & 0 & 20294 \\\\\n",
       "\t5 & 建物現況格局\\_衛 & 0 & 20294 \\\\\n",
       "\t6 & 建物現況格局\\_隔間 & 0 & 20294 \\\\\n",
       "\t7 & 總價元 & 0 & 20294 \\\\\n",
       "\t8 & 單價元平方公尺 & 1033 &  \\\\\n",
       "\t9 & 車位移轉總面積\\_平方公尺 & 0 & 20294 \\\\\n",
       "\t10 & 車位總價元 & 0 & 20294 \\\\\n",
       "\t11 & 主建物面積 & 0 & 20294 \\\\\n",
       "\t12 & 附屬建物面積 & 0 & 20294 \\\\\n",
       "\t13 & 陽台面積 & 0 & 20294 \\\\\n",
       "\t14 & 電梯 & 0 & 20294 \\\\\n",
       "\\end{tabular}\n"
      ],
      "text/plain": [
       "\u001b[1m14×3 DataFrame\u001b[0m\n",
       "\u001b[1m Row \u001b[0m│\u001b[1m variable                \u001b[0m\u001b[1m nmissing \u001b[0m\u001b[1m length \u001b[0m\n",
       "     │\u001b[90m Symbol                  \u001b[0m\u001b[90m Int64    \u001b[0m\u001b[90m Union… \u001b[0m\n",
       "─────┼───────────────────────────────────────────\n",
       "   1 │ 土地移轉總面積平方公尺          0  20294\n",
       "   2 │ 建物移轉總面積平方公尺          0  20294\n",
       "   3 │ 建物現況格局_房                 0  20294\n",
       "   4 │ 建物現況格局_廳                 0  20294\n",
       "   5 │ 建物現況格局_衛                 0  20294\n",
       "   6 │ 建物現況格局_隔間               0  20294\n",
       "   7 │ 總價元                          0  20294\n",
       "   8 │ 單價元平方公尺               1033 \u001b[90m        \u001b[0m\n",
       "   9 │ 車位移轉總面積_平方公尺         0  20294\n",
       "  10 │ 車位總價元                      0  20294\n",
       "  11 │ 主建物面積                      0  20294\n",
       "  12 │ 附屬建物面積                    0  20294\n",
       "  13 │ 陽台面積                        0  20294\n",
       "  14 │ 電梯                            0  20294"
      ]
     },
     "execution_count": 25,
     "metadata": {},
     "output_type": "execute_result"
    }
   ],
   "source": [
    "describe(cont_tp, :nmissing, length => :length)"
   ]
  },
  {
   "cell_type": "code",
   "execution_count": null,
   "id": "55bef6a7",
   "metadata": {},
   "outputs": [],
   "source": [
    "cont_df = [cont_tp; cont_ks; cont_nt; cont_tc; cont_ty; cont_tn] \n",
    "cont_mat = Matrix(cont_df)"
   ]
  },
  {
   "cell_type": "code",
   "execution_count": null,
   "id": "b7bd9740",
   "metadata": {},
   "outputs": [],
   "source": [
    "colnames = names(cont_df)"
   ]
  },
  {
   "cell_type": "code",
   "execution_count": null,
   "id": "ff3a4051",
   "metadata": {},
   "outputs": [],
   "source": [
    "cont_knn = Impute.knn(cont_mat, k = 5)\n",
    "cont_knndf = DataFrame(cont_knn, :auto)\n",
    "rename!(cont_knndf, colnames)"
   ]
  },
  {
   "cell_type": "code",
   "execution_count": null,
   "id": "3017eb78",
   "metadata": {},
   "outputs": [],
   "source": [
    "df_knn = hcat(cont_knndf, cate_df)\n",
    "return "
   ]
  },
  {
   "cell_type": "markdown",
   "id": "0bafd3d8",
   "metadata": {},
   "source": [
    "### Finding outliers"
   ]
  },
  {
   "cell_type": "code",
   "execution_count": null,
   "id": "8150cb76",
   "metadata": {},
   "outputs": [],
   "source": [
    "using LinRegOutliers\n",
    "using StatsModels"
   ]
  },
  {
   "cell_type": "code",
   "execution_count": null,
   "id": "5f828bc8",
   "metadata": {},
   "outputs": [],
   "source": [
    "formula = @formula(總價元 ~ 土地移轉總面積平方公尺 + 建物移轉總面積平方公尺 +\n",
    "    建物現況格局_房 + 建物現況格局_廳 + 建物現況格局_衛 + 建物現況格局_隔間 +\n",
    "    單價元平方公尺 + 車位移轉總面積_平方公尺 + 車位總價元 + 主建物面積 +\n",
    "    附屬建物面積 + 陽台面積 + 電梯)"
   ]
  },
  {
   "cell_type": "code",
   "execution_count": null,
   "id": "72d8e2c1",
   "metadata": {},
   "outputs": [],
   "source": [
    "reg_tp = createRegressionSetting(formula, cont_tp_knn)\n",
    "outsmr = studentizedResiduals(reg_tp)"
   ]
  },
  {
   "cell_type": "code",
   "execution_count": 26,
   "id": "60bbabec",
   "metadata": {},
   "outputs": [],
   "source": [
    "#########\n",
    "using MLJ\n",
    "using OutlierDetection\n",
    "using MLJBase\n",
    "using PyCall\n",
    "using Pkg\n",
    "# KNN = @iload KNNDetector pkg=OutlierDetectionNeighbors\n",
    "# LOF = @iload LOFDetector pkg=OutlierDetectionNeighbors"
   ]
  },
  {
   "cell_type": "code",
   "execution_count": null,
   "id": "cc04832b",
   "metadata": {},
   "outputs": [],
   "source": [
    "ENV[\"PYTHON\"] = \"/home/chanyu/.pyenv/shims/python3\""
   ]
  },
  {
   "cell_type": "code",
   "execution_count": 27,
   "id": "1ecd8794",
   "metadata": {},
   "outputs": [
    {
     "name": "stderr",
     "output_type": "stream",
     "text": [
      "┌ Info: For silent loading, specify `verbosity=0`. \n",
      "└ @ Main /home/chanyu/.julia/packages/MLJModels/47nZM/src/loading.jl:159\n"
     ]
    },
    {
     "name": "stdout",
     "output_type": "stream",
     "text": [
      "import OutlierDetectionPython ✔\n"
     ]
    },
    {
     "data": {
      "text/plain": [
       "OutlierDetectionPython.IForestDetector"
      ]
     },
     "execution_count": 27,
     "metadata": {},
     "output_type": "execute_result"
    }
   ],
   "source": [
    "PyIFO =  @iload IForestDetector pkg=OutlierDetectionPython"
   ]
  },
  {
   "cell_type": "code",
   "execution_count": 28,
   "id": "36c80e53",
   "metadata": {},
   "outputs": [
    {
     "data": {
      "text/plain": [
       "IForestDetector(\n",
       "  n_estimators = 100, \n",
       "  max_samples = \"auto\", \n",
       "  max_features = 1.0, \n",
       "  bootstrap = false, \n",
       "  behaviour = \"new\", \n",
       "  random_state = nothing, \n",
       "  verbose = 0, \n",
       "  n_jobs = 1)"
      ]
     },
     "execution_count": 28,
     "metadata": {},
     "output_type": "execute_result"
    }
   ],
   "source": [
    "IFO = PyIFO()"
   ]
  },
  {
   "cell_type": "code",
   "execution_count": 29,
   "id": "4fec4a08",
   "metadata": {},
   "outputs": [],
   "source": [
    "df_knn = CSV.File(\"./df.csv\") |>\n",
    "    DataFrame\n",
    "return"
   ]
  },
  {
   "cell_type": "code",
   "execution_count": 30,
   "id": "6140f287",
   "metadata": {},
   "outputs": [],
   "source": [
    "cont_tp_knn, cate_tp_knn = type_split(subset(df_knn, :city => ByRow(x -> x == \"tp\")))\n",
    "cont_nt_knn, cate_nt_knn = type_split(subset(df_knn, :city => ByRow(x -> x == \"nt\")))\n",
    "cont_tc_knn, cate_tc_knn = type_split(subset(df_knn, :city => ByRow(x -> x == \"tc\")))\n",
    "cont_tn_knn, cate_tn_knn = type_split(subset(df_knn, :city => ByRow(x -> x == \"tn\")))\n",
    "cont_ty_knn, cate_ty_knn = type_split(subset(df_knn, :city => ByRow(x -> x == \"ty\")))\n",
    "cont_ks_knn, cate_ks_knn = type_split(subset(df_knn, :city => ByRow(x -> x == \"ks\")))\n",
    "return"
   ]
  },
  {
   "cell_type": "code",
   "execution_count": 34,
   "id": "f3ff8912",
   "metadata": {},
   "outputs": [],
   "source": [
    "# outlier detection\n",
    "dropmissing!(cont_ty_knn)\n",
    "# it actually did not drop anything, but it need to be another type to fit the model.\n",
    "# julia problem :(\n",
    "train_n = Int(round(nrow(cont_ty_knn) * 0.7))\n",
    "train = first(cont_ty_knn, train_n)\n",
    "test = last(cont_ty_knn, nrow(cont_ty_knn) - train_n)\n",
    "trainMat = Matrix(train)'\n",
    "testMat = Matrix(test)'\n",
    "\n",
    "return"
   ]
  },
  {
   "cell_type": "code",
   "execution_count": 35,
   "id": "068d9194",
   "metadata": {
    "collapsed": true
   },
   "outputs": [
    {
     "data": {
      "text/plain": [
       "41855-element Vector{String}:\n",
       " \"normal\"\n",
       " \"normal\"\n",
       " \"normal\"\n",
       " \"normal\"\n",
       " \"normal\"\n",
       " \"normal\"\n",
       " \"normal\"\n",
       " \"normal\"\n",
       " \"normal\"\n",
       " \"normal\"\n",
       " \"normal\"\n",
       " \"normal\"\n",
       " \"normal\"\n",
       " ⋮\n",
       " \"normal\"\n",
       " \"normal\"\n",
       " \"normal\"\n",
       " \"normal\"\n",
       " \"normal\"\n",
       " \"normal\"\n",
       " \"normal\"\n",
       " \"normal\"\n",
       " \"normal\"\n",
       " \"normal\"\n",
       " \"outlier\"\n",
       " \"outlier\""
      ]
     },
     "execution_count": 35,
     "metadata": {},
     "output_type": "execute_result"
    }
   ],
   "source": [
    "model, scores_train = OutlierDetection.fit(IFO, trainMat; verbosity = 0)\n",
    "scores_test = MLJ.transform(IFO, model, testMat)\n",
    "proba_train, proba_test = scale_minmax((scores_train, scores_test))\n",
    "label_train, label_test = classify_quantile(0.95)((scores_train, scores_test))\n",
    "cont_ty_knn[!, \"ifor\"] = [label_train; label_test]\n"
   ]
  },
  {
   "cell_type": "code",
   "execution_count": 37,
   "id": "d90d10bf",
   "metadata": {},
   "outputs": [
    {
     "data": {
      "text/plain": [
       "\"./outlier_TY.csv\""
      ]
     },
     "execution_count": 37,
     "metadata": {},
     "output_type": "execute_result"
    }
   ],
   "source": [
    "ty_knn = [cont_ty_knn cate_ty_knn  cate_ty.:鄉鎮市區]\n",
    "\n",
    "CSV.write(\"./outlier_TY.csv\", ty_knn)"
   ]
  },
  {
   "cell_type": "markdown",
   "id": "42e426b8",
   "metadata": {},
   "source": [
    "### PCA"
   ]
  },
  {
   "cell_type": "code",
   "execution_count": 5,
   "id": "09fed8ef",
   "metadata": {},
   "outputs": [],
   "source": [
    "using MultivariateStats\n",
    "# using Plots"
   ]
  },
  {
   "cell_type": "code",
   "execution_count": null,
   "id": "956a84e7",
   "metadata": {},
   "outputs": [],
   "source": [
    "# PCA\n",
    "data = Matrix(cont_tpF)\n",
    "# normalize\n",
    "data = (data .- mean(data, dims = 1)) ./ std(data, dims = 1)"
   ]
  },
  {
   "cell_type": "code",
   "execution_count": null,
   "id": "3ee5bd51",
   "metadata": {},
   "outputs": [],
   "source": [
    "# generate a 2-dims PCA\n",
    "p = StatsBase.fit(PCA, data', maxoutdim = 2)\n",
    "P = projection(p)\n",
    "@show P'*(data[1,:]-mean(p))\n",
    "Yte = MultivariateStats.transform(p, data')"
   ]
  },
  {
   "cell_type": "code",
   "execution_count": null,
   "id": "63b8efc9",
   "metadata": {
    "scrolled": true
   },
   "outputs": [],
   "source": [
    "recData = reconstruct(p, Yte)\n",
    "norm(recData - data')"
   ]
  },
  {
   "cell_type": "code",
   "execution_count": null,
   "id": "e12db104",
   "metadata": {},
   "outputs": [],
   "source": [
    "# set up backgroundec\n",
    "plotly()"
   ]
  },
  {
   "cell_type": "code",
   "execution_count": null,
   "id": "545037ea",
   "metadata": {
    "scrolled": true
   },
   "outputs": [],
   "source": [
    "Plots.scatter(Yte[1,:], Yte[2,:])\n",
    "Plots.xlabel!(\"pca component1\")\n",
    "Plots.ylabel!(\"pca component2\")"
   ]
  },
  {
   "cell_type": "code",
   "execution_count": null,
   "id": "ac51e500",
   "metadata": {
    "scrolled": true
   },
   "outputs": [],
   "source": [
    "Plots.scatter!(Yte[1, labels .== \"outlier\"], Yte[2, labels .== \"outlier\"], \n",
    "    color = 2, label = \"outlier\")\n",
    "Plots.scatter!(Yte[1, labels .!= \"outlier\"], Yte[2, labels .!= \"outlier\"], \n",
    "    color = 1, label = \"normal\")"
   ]
  },
  {
   "cell_type": "code",
   "execution_count": null,
   "id": "f81e0a5f",
   "metadata": {},
   "outputs": [],
   "source": [
    "Yte[2, labels .== \"outlier\"]"
   ]
  },
  {
   "cell_type": "markdown",
   "id": "162387b2",
   "metadata": {},
   "source": [
    "### Model-Based Regression Tree"
   ]
  },
  {
   "cell_type": "code",
   "execution_count": null,
   "id": "1f653297",
   "metadata": {},
   "outputs": [],
   "source": [
    "# loding R packages\n",
    "R\"\"\"\n",
    "library(tidyverse)\n",
    "library(party)\n",
    "\"\"\""
   ]
  },
  {
   "cell_type": "code",
   "execution_count": null,
   "id": "b2148650",
   "metadata": {},
   "outputs": [],
   "source": [
    "# output dataframe to r environment\n",
    "@rput df_knn"
   ]
  },
  {
   "cell_type": "code",
   "execution_count": null,
   "id": "3b9b0860",
   "metadata": {},
   "outputs": [],
   "source": [
    "R\"\"\"\n",
    "df$車位類別 = as.factor(df$車位類別)\n",
    "df$city = as.factor(df$city)\n",
    "df$有無管理組織 = as.factor(df$有無管理組織)\n",
    "df$主要用途 = as.factor(df$主要用途)\n",
    "df$建物型態 = as.factor(df$建物型態)\n",
    "df$電梯 = as.factor(df$電梯)\n",
    "df$有無管理組織 = as.factor(df$有無管理組織)\n",
    "df$主要用途 = as.factor(df$主要用途)\n",
    "df$建物型態 = as.factor(df$建物型態)\n",
    "\"\"\""
   ]
  },
  {
   "cell_type": "code",
   "execution_count": null,
   "id": "211e3045",
   "metadata": {},
   "outputs": [],
   "source": [
    "R\"summary(df)\""
   ]
  },
  {
   "cell_type": "code",
   "execution_count": null,
   "id": "5a727727",
   "metadata": {},
   "outputs": [],
   "source": [
    "R\"\"\"\n",
    "df = select(df_knn, !c(鄉鎮市區, 移轉層次, 總樓層數, 主要建材))\n",
    "\"\"\""
   ]
  },
  {
   "cell_type": "code",
   "execution_count": null,
   "id": "50748cea",
   "metadata": {},
   "outputs": [],
   "source": [
    "R\"\"\"\n",
    "mod_bas = mob(\n",
    "    總價元 ~ 土地移轉總面積平方公尺 + 建物移轉總面積平方公尺 + 建物現況格局_房 +\n",
    "    建物現況格局_廳 + 建物現況格局_衛 + 建物現況格局_隔間 + 單價元平方公尺 + \n",
    "    車位移轉總面積_平方公尺 + 車位總價元 + 主建物面積 + 附屬建物面積 + 陽台面積 |\n",
    "    電梯 + 交易標的 + 建物型態 + 主要用途 + 有無管理組織 + 車位類別 + city,\n",
    "    control = mob_control(minsplit = 40), data = df,\n",
    "    model = linearModel)\n",
    "\"\"\""
   ]
  },
  {
   "cell_type": "code",
   "execution_count": null,
   "id": "4ed72bb8",
   "metadata": {},
   "outputs": [],
   "source": [
    "CSV.write(\"./df.csv\", @rget df)"
   ]
  }
 ],
 "metadata": {
  "kernelspec": {
   "display_name": "Julia 1.8.1",
   "language": "julia",
   "name": "julia-1.8"
  },
  "language_info": {
   "file_extension": ".jl",
   "mimetype": "application/julia",
   "name": "julia",
   "version": "1.8.1"
  }
 },
 "nbformat": 4,
 "nbformat_minor": 5
}
